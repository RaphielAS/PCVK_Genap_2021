{
  "nbformat": 4,
  "nbformat_minor": 0,
  "metadata": {
    "colab": {
      "name": "Week7.ipynb",
      "provenance": [],
      "include_colab_link": true
    },
    "kernelspec": {
      "name": "python3",
      "display_name": "Python 3"
    },
    "language_info": {
      "name": "python"
    }
  },
  "cells": [
    {
      "cell_type": "markdown",
      "metadata": {
        "id": "view-in-github",
        "colab_type": "text"
      },
      "source": [
        "<a href=\"https://colab.research.google.com/github/RaphielAS/PCVK_Genap_2021/blob/main/Week7.ipynb\" target=\"_parent\"><img src=\"https://colab.research.google.com/assets/colab-badge.svg\" alt=\"Open In Colab\"/></a>"
      ]
    },
    {
      "cell_type": "code",
      "execution_count": null,
      "metadata": {
        "colab": {
          "base_uri": "https://localhost:8080/"
        },
        "id": "LC0rnCqESU6h",
        "outputId": "ed986cde-d04b-4ac1-8135-71f5b6cbd973"
      },
      "outputs": [
        {
          "output_type": "stream",
          "name": "stdout",
          "text": [
            "Mounted at /content/drive\n"
          ]
        }
      ],
      "source": [
        "from google.colab import drive\n",
        "\n",
        "drive.mount('/content/drive')"
      ]
    },
    {
      "cell_type": "code",
      "source": [
        "import numpy as np\n",
        "import matplotlib.pyplot as plt\n",
        "import cv2 as cv\n",
        "import math\n",
        "from google.colab.patches import cv2_imshow\n",
        "from PIL import Image as im"
      ],
      "metadata": {
        "id": "TQSNL5scS5Oh"
      },
      "execution_count": null,
      "outputs": []
    },
    {
      "cell_type": "code",
      "source": [
        "def convolution2d(image, kernel, stride, padding):\n",
        "\n",
        "  image = np.pad(image, padding, mode='constant', constant_values=0)\n",
        "\n",
        "  kernel_height, kernel_width = kernel.shape\n",
        "  padded_height, padded_width = image.shape\n",
        "\n",
        "  output_height = (padded_height - kernel_height) // stride + 1\n",
        "  output_width = (padded_width - kernel_width) // stride + 1\n",
        "\n",
        "  new_image = np.zeros((output_height, output_width)).astype(np.float32)\n",
        "\n",
        "  # convolution process\n",
        "  for y in range(0, output_height):\n",
        "    for x in range(0, output_width):\n",
        "      new_image[y][x] = np.sum(image[y * stride:y * stride + kernel_height, x * stride:x * stride + kernel_width] * kernel).astype(np.float32)\n",
        "      \n",
        "  return new_image"
      ],
      "metadata": {
        "id": "YYR0doPwTOGY"
      },
      "execution_count": null,
      "outputs": []
    },
    {
      "cell_type": "code",
      "source": [
        "img_m = cv.imread('/content/drive/MyDrive/PCVKdewe/Raphiel.jpg')\n",
        "img_s = cv.resize(img_m, (0,0), fx=0.2, fy=0.2)\n",
        "img_gray = cv.cvtColor(img_s, cv.COLOR_BGR2GRAY)"
      ],
      "metadata": {
        "id": "-UALQht0TX6x"
      },
      "execution_count": null,
      "outputs": []
    },
    {
      "cell_type": "code",
      "source": [
        "# image sharpen\n",
        "kernel_sharpen = np.array([[0,-1,0],\n",
        "                           [-1,5,-1],\n",
        "                           [0,-1,0]])\n",
        "\n",
        "cv2_imshow(convolution2d(img_gray, kernel_sharpen, 1, 2))"
      ],
      "metadata": {
        "colab": {
          "base_uri": "https://localhost:8080/",
          "height": 92
        },
        "id": "-nPvqZhbTiRw",
        "outputId": "fb6b94ce-b51a-4d13-ab79-e6cd5636c4ae"
      },
      "execution_count": null,
      "outputs": [
        {
          "output_type": "display_data",
          "data": {
            "text/plain": [
              "<PIL.Image.Image image mode=L size=132x75 at 0x7F776CDEBC50>"
            ],
            "image/png": "[encoded data removed]"
          },
          "metadata": {}
        }
      ]
    },
    {
      "cell_type": "code",
      "source": [
        "# image emboss\n",
        "kernel_emboss = np.array([[-2,-1,0],\n",
        "                          [-1,1,1],\n",
        "                          [0,1,2]])\n",
        "\n",
        "cv2_imshow(convolution2d(img_gray, kernel_emboss, 1, 2))"
      ],
      "metadata": {
        "colab": {
          "base_uri": "https://localhost:8080/",
          "height": 92
        },
        "id": "AYBZ3TGATt66",
        "outputId": "ea6f5f21-c411-436d-e193-c4e40a7168a3"
      },
      "execution_count": null,
      "outputs": [
        {
          "output_type": "display_data",
          "data": {
            "text/plain": [
              "<PIL.Image.Image image mode=L size=132x75 at 0x7F777B2CC750>"
            ],
            "image/png": "[encoded data removed]"
          },
          "metadata": {}
        }
      ]
    },
    {
      "cell_type": "code",
      "source": [
        "# image emboss\n",
        "kernel_emboss = np.array([[-1,0,1],\n",
        "                          [-1,0,3],\n",
        "                          [-5,0,1]])\n",
        "\n",
        "cv2_imshow(convolution2d(img_gray, kernel_emboss, 1, 2))"
      ],
      "metadata": {
        "colab": {
          "base_uri": "https://localhost:8080/",
          "height": 92
        },
        "id": "u8bAcxa2TyBQ",
        "outputId": "65ce26f3-8fcb-420a-945e-92f4f90b4c50"
      },
      "execution_count": null,
      "outputs": [
        {
          "output_type": "display_data",
          "data": {
            "text/plain": [
              "<PIL.Image.Image image mode=L size=132x75 at 0x7F776CD71ED0>"
            ],
            "image/png": "[encoded data removed]"
          },
          "metadata": {}
        }
      ]
    },
    {
      "cell_type": "code",
      "source": [
        "# image left sobel edge detection\n",
        "kernel_sobel = np.array([[1,0,-1],\n",
        "                         [2,0,-2],\n",
        "                         [1,0,-1]])\n",
        "\n",
        "cv2_imshow(convolution2d(img_gray, kernel_sobel, 1, 2))"
      ],
      "metadata": {
        "colab": {
          "base_uri": "https://localhost:8080/",
          "height": 92
        },
        "id": "_aLHX4UkTz3w",
        "outputId": "ae463391-fa4c-4d0d-fdb7-0b326a3c9ebb"
      },
      "execution_count": null,
      "outputs": [
        {
          "output_type": "display_data",
          "data": {
            "text/plain": [
              "<PIL.Image.Image image mode=L size=132x75 at 0x7F776CD71E50>"
            ],
            "image/png": "[encoded data removed]"
          },
          "metadata": {}
        }
      ]
    },
    {
      "cell_type": "code",
      "source": [
        "# image canny edge detection\n",
        "kernel_canny = np.array([[-1,-1,-1],\n",
        "                         [-1,8,-1],\n",
        "                         [-1,-1,-1]])\n",
        "\n",
        "cv2_imshow(convolution2d(img_gray, kernel_canny, 1, 2))"
      ],
      "metadata": {
        "colab": {
          "base_uri": "https://localhost:8080/",
          "height": 92
        },
        "id": "FBxBgC1BT2jo",
        "outputId": "2bed5541-756a-4a31-bb03-420a0194d4e3"
      },
      "execution_count": null,
      "outputs": [
        {
          "output_type": "display_data",
          "data": {
            "text/plain": [
              "<PIL.Image.Image image mode=L size=132x75 at 0x7F776CD08190>"
            ],
            "image/png": "[encoded data removed]"
          },
          "metadata": {}
        }
      ]
    },
    {
      "cell_type": "code",
      "source": [
        "# image 21x21 gaussian blur\n",
        "kernel_size = 21\n",
        "sigma = math.sqrt(kernel_size)\n",
        "gaussian_kernel = cv.getGaussianKernel(kernel_size, sigma)\n",
        "gauss_kernel = gaussian_kernel @ gaussian_kernel.transpose()\n",
        "\n",
        "cv2_imshow(convolution2d(img_gray, gauss_kernel, 1, 2))"
      ],
      "metadata": {
        "id": "mEsL7jzXT7cY",
        "outputId": "9fb6aa5a-b59c-42a0-b49d-774806aa5b93",
        "colab": {
          "base_uri": "https://localhost:8080/",
          "height": 74
        }
      },
      "execution_count": null,
      "outputs": [
        {
          "output_type": "display_data",
          "data": {
            "text/plain": [
              "<PIL.Image.Image image mode=L size=114x57 at 0x7F776CD08950>"
            ],
            "image/png": "[encoded data removed]"
          },
          "metadata": {}
        }
      ]
    },
    {
      "cell_type": "code",
      "source": [
        ""
      ],
      "metadata": {
        "id": "dR5wzX0nqiyb"
      },
      "execution_count": null,
      "outputs": []
    }
  ]
}